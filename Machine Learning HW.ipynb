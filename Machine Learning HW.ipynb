{
 "cells": [
  {
   "cell_type": "code",
   "execution_count": 1,
   "metadata": {},
   "outputs": [
    {
     "name": "stdout",
     "output_type": "stream",
     "text": [
      "\n",
      "loaded mnist data!\n",
      "test_data (10000, 784)\n",
      "training_data (60000, 784)\n",
      "training_labels (60000, 1)\n",
      "\n",
      "loaded spam data!\n",
      "test_data (5857, 32)\n",
      "training_data (5172, 32)\n",
      "training_labels (5172, 1)\n",
      "\n",
      "loaded cifar10 data!\n",
      "test_data (10000, 3072)\n",
      "training_data (50000, 3072)\n",
      "training_labels (50000, 1)\n"
     ]
    }
   ],
   "source": [
    "#checking importing the data\n",
    "import sys\n",
    "if sys.version_info[0] < 3:\n",
    "    raise Exception(\"Python 3 not detected.\")\n",
    "import numpy as np\n",
    "import matplotlib.pyplot as plt\n",
    "from sklearn import svm\n",
    "from scipy import io\n",
    "for data_name in [\"mnist\", \"spam\", \"cifar10\"]:\n",
    "    data = io.loadmat(\"data/%s_data.mat\" % data_name)\n",
    "    print(\"\\nloaded %s data!\" % data_name)\n",
    "    fields = \"test_data\", \"training_data\", \"training_labels\"\n",
    "    for field in fields:\n",
    "        print(field, data[field].shape)"
   ]
  },
  {
   "cell_type": "markdown",
   "metadata": {},
   "source": [
    "# Problem 1"
   ]
  },
  {
   "cell_type": "markdown",
   "metadata": {},
   "source": [
    "## Problem 1 a"
   ]
  },
  {
   "cell_type": "code",
   "execution_count": 42,
   "metadata": {},
   "outputs": [],
   "source": [
    "#MNIST Data\n",
    "data_mnist=io.loadmat(\"data/mnist_data.mat\")\n",
    "#indices for training and validating\n",
    "mnist_all_ind=[x for x in range(60000)]\n",
    "np.random.seed(10)\n",
    "mnist_train_ind=np.random.choice(60000, 50000, replace=False)\n",
    "mnist_valid_ind= [e for e in mnist_all_ind if e not in mnist_train_ind]\n",
    "data_mnist_train=data_mnist[\"training_data\"][mnist_train_ind]\n",
    "data_mnist_valid=data_mnist[\"training_data\"][mnist_valid_ind]\n",
    "label_mnist_train=data_mnist[\"training_labels\"][mnist_train_ind]\n",
    "label_mnist_valid=data_mnist[\"training_labels\"][mnist_valid_ind]"
   ]
  },
  {
   "cell_type": "markdown",
   "metadata": {},
   "source": [
    "## Problem 1 b"
   ]
  },
  {
   "cell_type": "code",
   "execution_count": 43,
   "metadata": {},
   "outputs": [],
   "source": [
    "#SPAM Data\n",
    "data_spam=io.loadmat(\"data/spam_data.mat\")\n",
    "#indices for training and validating\n",
    "spam_all_ind=[x for x in range(5172)]\n",
    "np.random.seed(11)\n",
    "spam_train_ind=np.random.choice(5172, 4138, replace=False)                 #4138\n",
    "spam_valid_ind= [e for e in spam_all_ind if e not in spam_train_ind]     #1034=0.2*5172\n",
    "data_spam_train=data_spam[\"training_data\"][spam_train_ind]\n",
    "data_spam_valid=data_spam[\"training_data\"][spam_valid_ind]\n",
    "label_spam_train=data_spam[\"training_labels\"][spam_train_ind]\n",
    "label_spam_valid=data_spam[\"training_labels\"][spam_valid_ind]"
   ]
  },
  {
   "cell_type": "markdown",
   "metadata": {},
   "source": [
    "## Problem 1 c"
   ]
  },
  {
   "cell_type": "code",
   "execution_count": 44,
   "metadata": {},
   "outputs": [],
   "source": [
    "#cifar10 Data\n",
    "data_cifar10=io.loadmat(\"data/cifar10_data.mat\")\n",
    "#indices for training and validating\n",
    "cifar10_all_ind=[x for x in range(50000)]\n",
    "np.random.seed(12)\n",
    "cifar10_train_ind=np.random.choice(50000, 45000, replace=False)                 #5000\n",
    "cifar10_valid_ind= [e for e in cifar10_all_ind if e not in cifar10_train_ind]     #45000\n",
    "data_cifar10_train=data_cifar10[\"training_data\"][cifar10_train_ind]\n",
    "data_cifar10_valid=data_cifar10[\"training_data\"][cifar10_valid_ind]\n",
    "label_cifar10_train=data_cifar10[\"training_labels\"][cifar10_train_ind]\n",
    "label_cifar10_valid=data_cifar10[\"training_labels\"][cifar10_valid_ind]"
   ]
  },
  {
   "cell_type": "markdown",
   "metadata": {},
   "source": [
    "# Problem 2"
   ]
  },
  {
   "cell_type": "markdown",
   "metadata": {},
   "source": [
    "## Problem 2 a"
   ]
  },
  {
   "cell_type": "code",
   "execution_count": 45,
   "metadata": {},
   "outputs": [
    {
     "name": "stdout",
     "output_type": "stream",
     "text": [
      "[0.7007]\n",
      "[1.0]\n",
      "[0.7007, 0.7715]\n",
      "[1.0, 1.0]\n",
      "[0.7007, 0.7715, 0.8076]\n",
      "[1.0, 1.0, 1.0]\n"
     ]
    },
    {
     "name": "stderr",
     "output_type": "stream",
     "text": [
      "C:\\ProgramData\\Anaconda2\\envs\\ipykernel_py3\\lib\\site-packages\\sklearn\\svm\\_base.py:946: ConvergenceWarning: Liblinear failed to converge, increase the number of iterations.\n",
      "  warnings.warn(\"Liblinear failed to converge, increase \"\n"
     ]
    },
    {
     "name": "stdout",
     "output_type": "stream",
     "text": [
      "[0.7007, 0.7715, 0.8076, 0.8234]\n",
      "[1.0, 1.0, 1.0, 1.0]\n"
     ]
    },
    {
     "name": "stderr",
     "output_type": "stream",
     "text": [
      "C:\\ProgramData\\Anaconda2\\envs\\ipykernel_py3\\lib\\site-packages\\sklearn\\svm\\_base.py:946: ConvergenceWarning: Liblinear failed to converge, increase the number of iterations.\n",
      "  warnings.warn(\"Liblinear failed to converge, increase \"\n"
     ]
    },
    {
     "name": "stdout",
     "output_type": "stream",
     "text": [
      "[0.7007, 0.7715, 0.8076, 0.8234, 0.8099]\n",
      "[1.0, 1.0, 1.0, 1.0, 0.9995]\n"
     ]
    },
    {
     "name": "stderr",
     "output_type": "stream",
     "text": [
      "C:\\ProgramData\\Anaconda2\\envs\\ipykernel_py3\\lib\\site-packages\\sklearn\\svm\\_base.py:946: ConvergenceWarning: Liblinear failed to converge, increase the number of iterations.\n",
      "  warnings.warn(\"Liblinear failed to converge, increase \"\n"
     ]
    },
    {
     "name": "stdout",
     "output_type": "stream",
     "text": [
      "[0.7007, 0.7715, 0.8076, 0.8234, 0.8099, 0.8371]\n",
      "[1.0, 1.0, 1.0, 1.0, 0.9995, 0.9876]\n",
      "[0.7007, 0.7715, 0.8076, 0.8234, 0.8099, 0.8371, 0.8544]\n",
      "[1.0, 1.0, 1.0, 1.0, 0.9995, 0.9876, 0.9556]\n"
     ]
    },
    {
     "name": "stderr",
     "output_type": "stream",
     "text": [
      "C:\\ProgramData\\Anaconda2\\envs\\ipykernel_py3\\lib\\site-packages\\sklearn\\svm\\_base.py:946: ConvergenceWarning: Liblinear failed to converge, increase the number of iterations.\n",
      "  warnings.warn(\"Liblinear failed to converge, increase \"\n"
     ]
    }
   ],
   "source": [
    "from sklearn.metrics import accuracy_score\n",
    "from sklearn.svm import LinearSVC\n",
    "#mnist\n",
    "sample_size=[]\n",
    "accuracy_mnist_valid=[]\n",
    "accuracy_mnist_train=[]\n",
    "for size in [100,200,500,1000,2000,5000,10000]:\n",
    "    sample_size.append(size)\n",
    "    np.random.seed(13)\n",
    "    train_ind=np.random.choice(10000, size, replace=False)\n",
    "    data_mnist_train_sample=data_mnist_train[train_ind]\n",
    "    label_mnist_train_sample=label_mnist_train[train_ind]\n",
    "    \n",
    "    #Build model\n",
    "    mnist_lsvc = LinearSVC()\n",
    "    label_mnist_train_sample=np.ravel(label_mnist_train_sample)\n",
    "    mnist_lsvc.fit(data_mnist_train_sample,label_mnist_train_sample)\n",
    "    \n",
    "    \n",
    "    #Find validation accuracy\n",
    "    label_mnist_valid_pred=mnist_lsvc.predict(data_mnist_valid)\n",
    "    accuracy_mnist_valid.append(accuracy_score(label_mnist_valid,label_mnist_valid_pred))\n",
    "    print(accuracy_mnist_valid)\n",
    "    \n",
    "    #Find training accuracy\n",
    "    label_mnist_train_pred=mnist_lsvc.predict(data_mnist_train_sample)\n",
    "    accuracy_mnist_train.append(accuracy_score(label_mnist_train_sample,label_mnist_train_pred))\n",
    "    print(accuracy_mnist_train)"
   ]
  },
  {
   "cell_type": "code",
   "execution_count": 48,
   "metadata": {},
   "outputs": [
    {
     "data": {
      "text/plain": [
       "<matplotlib.legend.Legend at 0x1dc0a8d5100>"
      ]
     },
     "execution_count": 48,
     "metadata": {},
     "output_type": "execute_result"
    },
    {
     "data": {
      "image/png": "[encoded data removed]",
      "text/plain": [
       "<Figure size 432x288 with 1 Axes>"
      ]
     },
     "metadata": {
      "needs_background": "light"
     },
     "output_type": "display_data"
    }
   ],
   "source": [
    "#Plotting Accuracy vs Training Sample Size\n",
    "size=[100,200,500,1000,2000,5000,10000]\n",
    "import matplotlib.pyplot as plt\n",
    "plt.grid(True)\n",
    "plt.plot(size,accuracy_mnist_train,color=\"blue\")\n",
    "plt.plot(size,accuracy_mnist_valid,color=\"red\")\n",
    "\n",
    "\n",
    "plt.title('MNIST Accuracy vs Training Sample Size')\n",
    "plt.ylabel('Accuracy')\n",
    "plt.xlabel('Training Sample Size')\n",
    "\n",
    "#legend\n",
    "plt.legend(('Training Accuracy', 'Validation Accuracy'), loc='lower right')\n"
   ]
  },
  {
   "cell_type": "markdown",
   "metadata": {},
   "source": [
    "## Problem 2 b"
   ]
  },
  {
   "cell_type": "code",
   "execution_count": 47,
   "metadata": {},
   "outputs": [
    {
     "name": "stderr",
     "output_type": "stream",
     "text": [
      "C:\\ProgramData\\Anaconda2\\envs\\ipykernel_py3\\lib\\site-packages\\sklearn\\svm\\_base.py:946: ConvergenceWarning: Liblinear failed to converge, increase the number of iterations.\n",
      "  warnings.warn(\"Liblinear failed to converge, increase \"\n",
      "C:\\ProgramData\\Anaconda2\\envs\\ipykernel_py3\\lib\\site-packages\\sklearn\\svm\\_base.py:946: ConvergenceWarning: Liblinear failed to converge, increase the number of iterations.\n",
      "  warnings.warn(\"Liblinear failed to converge, increase \"\n",
      "C:\\ProgramData\\Anaconda2\\envs\\ipykernel_py3\\lib\\site-packages\\sklearn\\svm\\_base.py:946: ConvergenceWarning: Liblinear failed to converge, increase the number of iterations.\n",
      "  warnings.warn(\"Liblinear failed to converge, increase \"\n",
      "C:\\ProgramData\\Anaconda2\\envs\\ipykernel_py3\\lib\\site-packages\\sklearn\\svm\\_base.py:946: ConvergenceWarning: Liblinear failed to converge, increase the number of iterations.\n",
      "  warnings.warn(\"Liblinear failed to converge, increase \"\n",
      "C:\\ProgramData\\Anaconda2\\envs\\ipykernel_py3\\lib\\site-packages\\sklearn\\svm\\_base.py:946: ConvergenceWarning: Liblinear failed to converge, increase the number of iterations.\n",
      "  warnings.warn(\"Liblinear failed to converge, increase \"\n"
     ]
    },
    {
     "name": "stdout",
     "output_type": "stream",
     "text": [
      "[0.776595744680851]\n",
      "[0.89]\n",
      "[0.776595744680851, 0.7649903288201161]\n",
      "[0.89, 0.88]\n",
      "[0.776595744680851, 0.7649903288201161, 0.7727272727272727]\n",
      "[0.89, 0.88, 0.844]\n",
      "[0.776595744680851, 0.7649903288201161, 0.7727272727272727, 0.7901353965183753]\n",
      "[0.89, 0.88, 0.844, 0.805]\n",
      "[0.776595744680851, 0.7649903288201161, 0.7727272727272727, 0.7901353965183753, 0.804642166344294]\n",
      "[0.89, 0.88, 0.844, 0.805, 0.8055]\n",
      "[0.776595744680851, 0.7649903288201161, 0.7727272727272727, 0.7901353965183753, 0.804642166344294, 0.8085106382978723]\n",
      "[0.89, 0.88, 0.844, 0.805, 0.8055, 0.8102489726855209]\n"
     ]
    },
    {
     "name": "stderr",
     "output_type": "stream",
     "text": [
      "C:\\ProgramData\\Anaconda2\\envs\\ipykernel_py3\\lib\\site-packages\\sklearn\\svm\\_base.py:946: ConvergenceWarning: Liblinear failed to converge, increase the number of iterations.\n",
      "  warnings.warn(\"Liblinear failed to converge, increase \"\n"
     ]
    }
   ],
   "source": [
    "#spam\n",
    "sample_size=[]\n",
    "accuracy_spam_valid=[]\n",
    "accuracy_spam_train=[]\n",
    "for size in [100,200,500,1000,2000,4137]:\n",
    "    sample_size.append(size)\n",
    "    np.random.seed(14)\n",
    "    train_ind=np.random.choice(4137, size, replace=False)\n",
    "    data_spam_train_sample=data_spam_train[train_ind]\n",
    "    label_spam_train_sample=label_spam_train[train_ind]\n",
    "    \n",
    "    #Building Model\n",
    "    spam_lsvc = LinearSVC()\n",
    "    label_spam_train_sample=np.ravel(label_spam_train_sample)\n",
    "    spam_lsvc.fit(data_spam_train_sample,label_spam_train_sample)\n",
    "    \n",
    "    #Find validation accuracy\n",
    "    label_spam_valid_pred=spam_lsvc.predict(data_spam_valid)\n",
    "    accuracy_spam_valid.append(accuracy_score(label_spam_valid,label_spam_valid_pred))\n",
    "    print(accuracy_spam_valid)\n",
    "    \n",
    "    #Find training accuracy\n",
    "    label_spam_train_pred=spam_lsvc.predict(data_spam_train_sample)\n",
    "    accuracy_spam_train.append(accuracy_score(label_spam_train_sample,label_spam_train_pred))\n",
    "    print(accuracy_spam_train)"
   ]
  },
  {
   "cell_type": "code",
   "execution_count": 49,
   "metadata": {},
   "outputs": [
    {
     "data": {
      "text/plain": [
       "<matplotlib.legend.Legend at 0x1dc0a6212b0>"
      ]
     },
     "execution_count": 49,
     "metadata": {},
     "output_type": "execute_result"
    },
    {
     "data": {
      "image/png": "[encoded data removed]",
      "text/plain": [
       "<Figure size 432x288 with 1 Axes>"
      ]
     },
     "metadata": {
      "needs_background": "light"
     },
     "output_type": "display_data"
    }
   ],
   "source": [
    "#Plotting Accuracy vs Training Sample Size\n",
    "size=[100,200,500,1000,2000,4137]\n",
    "plt.grid(True)\n",
    "plt.plot(size,accuracy_spam_train,color=\"blue\")\n",
    "plt.plot(size,accuracy_spam_valid,color=\"red\")\n",
    "\n",
    "\n",
    "plt.title('Spam Accuracy vs Training Sample Size')\n",
    "plt.ylabel('Accuracy')\n",
    "plt.xlabel('Training Sample Size')\n",
    "\n",
    "#legend\n",
    "plt.legend(('Training Accuracy', 'Validation Accuracy'), loc='lower right')\n"
   ]
  },
  {
   "cell_type": "markdown",
   "metadata": {},
   "source": [
    "## Problem 2 c"
   ]
  },
  {
   "cell_type": "code",
   "execution_count": 50,
   "metadata": {},
   "outputs": [
    {
     "name": "stdout",
     "output_type": "stream",
     "text": [
      "[0.2548]\n",
      "[1.0]\n",
      "[0.2548, 0.2636]\n",
      "[1.0, 1.0]\n",
      "[0.2548, 0.2636, 0.29]\n",
      "[1.0, 1.0, 1.0]\n",
      "[0.2548, 0.2636, 0.29, 0.3024]\n",
      "[1.0, 1.0, 1.0, 1.0]\n",
      "[0.2548, 0.2636, 0.29, 0.3024, 0.3058]\n",
      "[1.0, 1.0, 1.0, 1.0, 1.0]\n",
      "[0.2548, 0.2636, 0.29, 0.3024, 0.3058, 0.298]\n",
      "[1.0, 1.0, 1.0, 1.0, 1.0, 1.0]\n"
     ]
    }
   ],
   "source": [
    "from sklearn.svm import SVC\n",
    "#cifar10\n",
    "sample_size=[]\n",
    "accuracy_cifar10_valid=[]\n",
    "accuracy_cifar10_train=[]\n",
    "for size in [100,200,500,1000,2000,5000]:\n",
    "    sample_size.append(size)\n",
    "    np.random.seed(15)\n",
    "    train_ind=np.random.choice(45000, size, replace=False)\n",
    "    data_cifar10_train_sample=data_cifar10_train[train_ind]\n",
    "    label_cifar10_train_sample=label_cifar10_train[train_ind]\n",
    "    \n",
    "    #Building Model\n",
    "    cifar10_lsvc = SVC(kernel='linear')\n",
    "    label_cifar10_train_sample=np.ravel(label_cifar10_train_sample)\n",
    "    cifar10_lsvc.fit(data_cifar10_train_sample,label_cifar10_train_sample)\n",
    "    \n",
    "    #Find validation accuracy\n",
    "    label_cifar10_valid_pred=cifar10_lsvc.predict(data_cifar10_valid)\n",
    "    accuracy_cifar10_valid.append(accuracy_score(label_cifar10_valid,label_cifar10_valid_pred))\n",
    "    print(accuracy_cifar10_valid)\n",
    "    \n",
    "    #Find training accuracy\n",
    "    label_cifar10_train_pred=cifar10_lsvc.predict(data_cifar10_train_sample)\n",
    "    accuracy_cifar10_train.append(accuracy_score(label_cifar10_train_sample,label_cifar10_train_pred))\n",
    "    print(accuracy_cifar10_train)"
   ]
  },
  {
   "cell_type": "code",
   "execution_count": 53,
   "metadata": {},
   "outputs": [
    {
     "data": {
      "text/plain": [
       "<matplotlib.legend.Legend at 0x1dc0ad07550>"
      ]
     },
     "execution_count": 53,
     "metadata": {},
     "output_type": "execute_result"
    },
    {
     "data": {
      "image/png": "[encoded data removed]",
      "text/plain": [
       "<Figure size 432x288 with 1 Axes>"
      ]
     },
     "metadata": {
      "needs_background": "light"
     },
     "output_type": "display_data"
    }
   ],
   "source": [
    "#Plotting Accuracy vs Training Sample Size\n",
    "size=[100,200,500,1000,2000,5000]\n",
    "plt.grid(True)\n",
    "plt.plot(size,accuracy_cifar10_train,color=\"blue\")\n",
    "plt.plot(size,accuracy_cifar10_valid,color=\"red\")\n",
    "\n",
    "\n",
    "plt.title('Cifar10 Accuracy vs Training Sample Size')\n",
    "plt.ylabel('Accuracy')\n",
    "plt.xlabel('Training Sample Size')\n",
    "\n",
    "#legend\n",
    "plt.legend(('Training Accuracy', 'Validation Accuracy'), loc='center right')\n"
   ]
  },
  {
   "cell_type": "markdown",
   "metadata": {},
   "source": [
    "# Problem 3"
   ]
  },
  {
   "cell_type": "code",
   "execution_count": 57,
   "metadata": {},
   "outputs": [
    {
     "name": "stdout",
     "output_type": "stream",
     "text": [
      "[0.8919]\n",
      "[0.8919, 0.9205]\n",
      "[0.8919, 0.9205, 0.9293]\n",
      "[0.8919, 0.9205, 0.9293, 0.919]\n",
      "[0.8919, 0.9205, 0.9293, 0.919, 0.9132]\n",
      "[0.8919, 0.9205, 0.9293, 0.919, 0.9132, 0.9132]\n",
      "[0.8919, 0.9205, 0.9293, 0.919, 0.9132, 0.9132, 0.9132]\n",
      "[0.8919, 0.9205, 0.9293, 0.919, 0.9132, 0.9132, 0.9132, 0.9132]\n"
     ]
    }
   ],
   "source": [
    "#Selection of C for mnist\n",
    "selected_C=[]\n",
    "accuracy_mnist=[]\n",
    "np.random.seed(16)\n",
    "train_ind=np.random.choice(50000, 10000, replace=False)\n",
    "data_mnist_train_sample=data_mnist_train[train_ind]\n",
    "label_mnist_train_sample=label_mnist_train[train_ind]\n",
    "for c in [1e-8,1e-7,1e-6,1e-5,1e-4,1e-2,1,10]:\n",
    "    selected_C.append(c)\n",
    "    mnist_lsvc = SVC(C=c,kernel='linear')\n",
    "    label_mnist_train_sample=np.ravel(label_mnist_train_sample)\n",
    "    mnist_lsvc.fit(data_mnist_train_sample,label_mnist_train_sample)\n",
    "    label_mnist_pred=mnist_lsvc.predict(data_mnist_valid)\n",
    "    accuracy_mnist.append(accuracy_score(label_mnist_valid,label_mnist_pred))\n",
    "    print(accuracy_mnist)"
   ]
  },
  {
   "cell_type": "code",
   "execution_count": 58,
   "metadata": {},
   "outputs": [
    {
     "name": "stdout",
     "output_type": "stream",
     "text": [
      "[0.9292]\n",
      "[0.9292, 0.9299]\n",
      "[0.9292, 0.9299, 0.9214]\n"
     ]
    }
   ],
   "source": [
    "#closer look around 1e-6 which gave us the best accuracy\n",
    "selected_C=[]\n",
    "accuracy_mnist1=[]\n",
    "#np.random.seed(16)\n",
    "#train_ind=np.random.choice(50000, 10000, replace=False)\n",
    "#data_mnist_train_sample=data_mnist_train[train_ind]\n",
    "#label_mnist_train_sample=label_mnist_train[train_ind]\n",
    "for c in [4e-7,9e-7,8e-6]:\n",
    "    selected_C.append(c)\n",
    "    mnist_lsvc = SVC(C=c,kernel='linear')\n",
    "    label_mnist_train_sample=np.ravel(label_mnist_train_sample)\n",
    "    mnist_lsvc.fit(data_mnist_train_sample,label_mnist_train_sample)\n",
    "    label_mnist_pred=mnist_lsvc.predict(data_mnist_valid)\n",
    "    accuracy_mnist1.append(accuracy_score(label_mnist_valid,label_mnist_pred))\n",
    "    print(accuracy_mnist1)"
   ]
  },
  {
   "cell_type": "markdown",
   "metadata": {},
   "source": [
    "# Problem 4"
   ]
  },
  {
   "cell_type": "code",
   "execution_count": 61,
   "metadata": {},
   "outputs": [
    {
     "name": "stdout",
     "output_type": "stream",
     "text": [
      "[0.7100580270793037]\n",
      "[0.7100580270793037, 0.7100580270793037]\n",
      "[0.7100580270793037, 0.7100580270793037, 0.7174081237911024]\n",
      "[0.7100580270793037, 0.7100580270793037, 0.7174081237911024, 0.778723404255319]\n",
      "[0.7100580270793037, 0.7100580270793037, 0.7174081237911024, 0.778723404255319, 0.8019342359767891]\n",
      "[0.7100580270793037, 0.7100580270793037, 0.7174081237911024, 0.778723404255319, 0.8019342359767891, 0.8042553191489363]\n",
      "[0.7100580270793037, 0.7100580270793037, 0.7174081237911024, 0.778723404255319, 0.8019342359767891, 0.8042553191489363, 0.8021276595744681]\n",
      "[0.7100580270793037, 0.7100580270793037, 0.7174081237911024, 0.778723404255319, 0.8019342359767891, 0.8042553191489363, 0.8021276595744681, 0.8034816247582205]\n"
     ]
    }
   ],
   "source": [
    "#5 fold cross validation for spam data\n",
    "import math\n",
    "np.random.seed(17)\n",
    "#shuffle data\n",
    "spam_train_ind_shuf=np.random.choice(5172, 5172, replace=False)\n",
    "spam_data_train_shuf=data_spam[\"training_data\"][spam_train_ind_shuf]\n",
    "spam_labels_train_shuf=data_spam[\"training_labels\"][spam_train_ind_shuf]\n",
    "accuracy_spam=[]\n",
    "unshuffled_ind=[x for x in range(5172)]\n",
    "for c in [1e-6,1e-5,1e-4,1e-2,1,10,50,100]:\n",
    "    accuracy_k_spam=[]\n",
    "    for k in range(5):\n",
    "        #validation split\n",
    "        range_start=k*1034+math.ceil(k/2)\n",
    "        range_end=1034*(k+1)+math.ceil(k/2)\n",
    "        kfold_data_valid=spam_data_train_shuf[range_start:range_end]\n",
    "        kfold_labels_valid=np.ravel(spam_labels_train_shuf[range_start:range_end])   \n",
    "        #Training data\n",
    "        kfold_data_train_ind=[e for e in unshuffled_ind if e <range_start or e>range_end]\n",
    "        kfold_data_train=spam_data_train_shuf[kfold_data_train_ind]\n",
    "        kfold_labels_train=np.ravel(spam_labels_train_shuf[kfold_data_train_ind])\n",
    "        #build model\n",
    "        spam_lsvc = SVC(C=c,kernel='linear')\n",
    "        spam_lsvc.fit(kfold_data_train,kfold_labels_train)\n",
    "        label_spam_pred=spam_lsvc.predict(kfold_data_valid)\n",
    "        #accuracy for that specific fold\n",
    "        accuracy_k_spam.append(accuracy_score(kfold_labels_valid,label_spam_pred))\n",
    "    #average accuracy    \n",
    "    accuracy_spam.append(np.mean(accuracy_k_spam))\n",
    "    print(accuracy_spam)\n"
   ]
  },
  {
   "cell_type": "markdown",
   "metadata": {},
   "source": [
    "# Problem 5"
   ]
  },
  {
   "cell_type": "markdown",
   "metadata": {},
   "source": [
    "# MNIST"
   ]
  },
  {
   "cell_type": "code",
   "execution_count": 66,
   "metadata": {},
   "outputs": [
    {
     "data": {
      "text/plain": [
       "SVC(C=9e-07, break_ties=False, cache_size=200, class_weight=None, coef0=0.0,\n",
       "    decision_function_shape='ovr', degree=3, gamma='scale', kernel='linear',\n",
       "    max_iter=-1, probability=False, random_state=None, shrinking=True,\n",
       "    tol=0.001, verbose=False)"
      ]
     },
     "execution_count": 66,
     "metadata": {},
     "output_type": "execute_result"
    }
   ],
   "source": [
    "#build model using all data\n",
    "np.random.seed(18)\n",
    "data_mnist_full=data_mnist[\"training_data\"]\n",
    "label_mnist_full=data_mnist[\"training_labels\"]\n",
    "c=9e-7\n",
    "mnist_lsvc_full = SVC(C=c,kernel='linear')\n",
    "label_mnist_full=np.ravel(label_mnist_full)\n",
    "mnist_lsvc_full.fit(data_mnist_full,label_mnist_full)\n"
   ]
  },
  {
   "cell_type": "code",
   "execution_count": 67,
   "metadata": {},
   "outputs": [],
   "source": [
    "#predict\n",
    "data_test_mnist=data_mnist[\"test_data\"]\n",
    "mnist_full_predict=mnist_lsvc_full.predict(data_test_mnist)"
   ]
  },
  {
   "cell_type": "code",
   "execution_count": 74,
   "metadata": {},
   "outputs": [],
   "source": [
    "#output\n",
    "# A code snippet to help you save your results into a kaggle accepted csv\n",
    "import pandas as pd\n",
    "import numpy as np\n",
    "\n",
    "# Usage results_to_csv(clf.predict(X_test))\n",
    "def results_to_csv_mnist(y_test):\n",
    "    y_test = y_test.astype(int)\n",
    "    df = pd.DataFrame({'Category': y_test})\n",
    "    df.index += 1  # Ensures that the index starts at 1. \n",
    "    df.to_csv('mnist_submission.csv', index_label='Id')\n",
    "results_to_csv_mnist(mnist_full_predict)"
   ]
  },
  {
   "cell_type": "markdown",
   "metadata": {},
   "source": [
    "## SPAM"
   ]
  },
  {
   "cell_type": "code",
   "execution_count": 68,
   "metadata": {},
   "outputs": [],
   "source": [
    "#Use Modified Spam Data\n",
    "data_spam1=io.loadmat(\"data/spam1_data.mat\")\n",
    "\n",
    "data_spam1_full=data_spam1[\"training_data\"]\n",
    "label_spam1_full=data_spam1[\"training_labels\"]\n",
    "label_spam1_full=np.ravel(label_spam1_full)\n",
    "\n"
   ]
  },
  {
   "cell_type": "code",
   "execution_count": 69,
   "metadata": {},
   "outputs": [
    {
     "data": {
      "text/plain": [
       "SVC(C=10, break_ties=False, cache_size=200, class_weight=None, coef0=0.0,\n",
       "    decision_function_shape='ovr', degree=3, gamma='scale', kernel='linear',\n",
       "    max_iter=-1, probability=False, random_state=None, shrinking=True,\n",
       "    tol=0.001, verbose=False)"
      ]
     },
     "execution_count": 69,
     "metadata": {},
     "output_type": "execute_result"
    }
   ],
   "source": [
    "#build model using all data\n",
    "c=10\n",
    "spam_lsvc_full = SVC(C=c,kernel='linear')\n",
    "spam_lsvc_full.fit(data_spam1_full,label_spam1_full)"
   ]
  },
  {
   "cell_type": "code",
   "execution_count": 70,
   "metadata": {},
   "outputs": [],
   "source": [
    "#predict\n",
    "data_test_spam1=data_spam1[\"test_data\"]\n",
    "spam_full_predict=spam_lsvc_full.predict(data_test_spam1)"
   ]
  },
  {
   "cell_type": "code",
   "execution_count": 75,
   "metadata": {},
   "outputs": [],
   "source": [
    "#output result\n",
    "# Usage results_to_csv(clf.predict(X_test))\n",
    "def results_to_csv_spam(y_test):\n",
    "    y_test = y_test.astype(int)\n",
    "    df = pd.DataFrame({'Category': y_test})\n",
    "    df.index += 1  # Ensures that the index starts at 1. \n",
    "    df.to_csv('spam_submission.csv', index_label='Id')\n",
    "results_to_csv_spam(spam_full_predict)"
   ]
  },
  {
   "cell_type": "markdown",
   "metadata": {},
   "source": [
    "## Cifar10"
   ]
  },
  {
   "cell_type": "code",
   "execution_count": 73,
   "metadata": {},
   "outputs": [
    {
     "name": "stdout",
     "output_type": "stream",
     "text": [
      "[0.2546]\n",
      "[0.2546, 0.293]\n",
      "[0.2546, 0.293, 0.292]\n",
      "[0.2546, 0.293, 0.292, 0.292]\n",
      "[0.2546, 0.293, 0.292, 0.292, 0.292]\n"
     ]
    }
   ],
   "source": [
    "#cifar10 hyperparameter turning using only 1000 samples for training \n",
    "np.random.seed(17)\n",
    "cifar10_train_ind=np.random.choice(50000, 45000, replace=False)                 #5000\n",
    "cifar10_valid_ind= [e for e in cifar10_all_ind if e not in cifar10_train_ind]     #45000\n",
    "data_cifar10_train=data_cifar10[\"training_data\"][cifar10_train_ind]\n",
    "data_cifar10_valid=data_cifar10[\"training_data\"][cifar10_valid_ind]\n",
    "label_cifar10_train=data_cifar10[\"training_labels\"][cifar10_train_ind]\n",
    "label_cifar10_valid=data_cifar10[\"training_labels\"][cifar10_valid_ind]\n",
    "\n",
    "np.random.seed(18)\n",
    "# using a sample of only 1000 is enough based on problem 2\n",
    "train_sample_ind=np.random.choice(45000, 1000, replace=False)\n",
    "\n",
    "data_cifar10_trian_sample=data_cifar10_train[train_sample_ind]\n",
    "label_cifar10_train_sample=label_cifar10_train[train_sample_ind]\n",
    "accuracy_cifar10=[]\n",
    "for c in [1e-8,1e-5,1e-3,1e-1,1]:\n",
    "    selected_C.append(c)\n",
    "    cifar10_lsvc = SVC(C=c,kernel='linear')\n",
    "    label_cifar10_train_sample=np.ravel(label_cifar10_train_sample)\n",
    "    cifar10_lsvc.fit(data_cifar10_trian_sample,label_cifar10_train_sample)\n",
    "    label_cifar10_valid_pred=cifar10_lsvc.predict(data_cifar10_valid)\n",
    "    accuracy_cifar10.append(accuracy_score(label_cifar10_valid,label_cifar10_valid_pred))\n",
    "    print(accuracy_cifar10)\n"
   ]
  },
  {
   "cell_type": "code",
   "execution_count": 76,
   "metadata": {},
   "outputs": [
    {
     "data": {
      "text/plain": [
       "SVC(C=1e-05, break_ties=False, cache_size=200, class_weight=None, coef0=0.0,\n",
       "    decision_function_shape='ovr', degree=3, gamma='scale', kernel='linear',\n",
       "    max_iter=-1, probability=False, random_state=None, shrinking=True,\n",
       "    tol=0.001, verbose=False)"
      ]
     },
     "execution_count": 76,
     "metadata": {},
     "output_type": "execute_result"
    }
   ],
   "source": [
    "#fitting model with chosen c on all the data\n",
    "data_cifar10_full=data_cifar10[\"training_data\"]\n",
    "label_cifar10_full=data_cifar10[\"training_labels\"]\n",
    "label_cifar10_full=np.ravel(label_cifar10_full)\n",
    "c=1e-5\n",
    "cifar10_lsvc_full = SVC(C=c,kernel='linear')\n",
    "cifar10_lsvc_full.fit(data_cifar10_full,label_cifar10_full)\n"
   ]
  },
  {
   "cell_type": "code",
   "execution_count": 79,
   "metadata": {},
   "outputs": [],
   "source": [
    "#predict\n",
    "data_test_cifar10=data_cifar10[\"test_data\"]\n",
    "cifar10_full_predict=cifar10_lsvc_full.predict(data_test_cifar10)"
   ]
  },
  {
   "cell_type": "code",
   "execution_count": 80,
   "metadata": {},
   "outputs": [],
   "source": [
    "#output results\n",
    "# Usage results_to_csv(clf.predict(X_test))\n",
    "def results_to_csv_cifar10(y_test):\n",
    "    y_test = y_test.astype(int)\n",
    "    df = pd.DataFrame({'Category': y_test})\n",
    "    df.index += 1  # Ensures that the index starts at 1. \n",
    "    df.to_csv('cifar10_submission.csv', index_label='Id')\n",
    "results_to_csv_cifar10(cifar10_full_predict)"
   ]
  },
  {
   "cell_type": "code",
   "execution_count": null,
   "metadata": {},
   "outputs": [],
   "source": []
  }
 ],
 "metadata": {
  "kernelspec": {
   "display_name": "Python 3",
   "language": "python",
   "name": "python3"
  },
  "language_info": {
   "codemirror_mode": {
    "name": "ipython",
    "version": 3
   },
   "file_extension": ".py",
   "mimetype": "text/x-python",
   "name": "python",
   "nbconvert_exporter": "python",
   "pygments_lexer": "ipython3",
   "version": "3.8.1"
  }
 },
 "nbformat": 4,
 "nbformat_minor": 4
}
